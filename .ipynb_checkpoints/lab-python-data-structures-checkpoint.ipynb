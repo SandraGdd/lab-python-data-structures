{
 "cells": [
  {
   "cell_type": "markdown",
   "metadata": {
    "tags": []
   },
   "source": [
    "# Lab | Data Structures "
   ]
  },
  {
   "cell_type": "markdown",
   "metadata": {},
   "source": [
    "## Exercise: Managing Customer Orders\n",
    "\n",
    "As part of a business venture, you are starting an online store that sells various products. To ensure smooth operations, you need to develop a program that manages customer orders and inventory.\n",
    "\n",
    "Follow the steps below to complete the exercise:\n",
    "\n",
    "1. Define a list called `products` that contains the following items: \"t-shirt\", \"mug\", \"hat\", \"book\", \"keychain\".\n",
    "\n",
    "2. Create an empty dictionary called `inventory`.\n",
    "\n",
    "3. Ask the user to input the quantity of each product available in the inventory. Use the product names from the `products` list as keys in the `inventory` dictionary and assign the respective quantities as values.\n",
    "\n",
    "4. Create an empty set called `customer_orders`.\n",
    "\n",
    "5. Ask the user to input the name of three products that a customer wants to order (from those in the products list, meaning three products out of \"t-shirt\", \"mug\", \"hat\", \"book\" or \"keychain\". Add each product name to the `customer_orders` set.\n",
    "\n",
    "6. Print the products in the `customer_orders` set.\n",
    "\n",
    "7. Calculate the following order statistics:\n",
    "   - Total Products Ordered: The total number of products in the `customer_orders` set.\n",
    "   - Percentage of Products Ordered: The percentage of products ordered compared to the total available products.\n",
    "   \n",
    "   Store these statistics in a tuple called `order_status`.\n",
    "\n",
    "8. Print the order statistics using the following format:\n",
    "   ```\n",
    "   Order Statistics:\n",
    "   Total Products Ordered: <total_products_ordered>\n",
    "   Percentage of Products Ordered: <percentage_ordered>% \n",
    "   ```\n",
    "\n",
    "9. Update the inventory by subtracting 1 from the quantity of each product. Modify the `inventory` dictionary accordingly.\n",
    "\n",
    "10. Print the updated inventory, displaying the quantity of each product on separate lines.\n",
    "\n",
    "Solve the exercise by implementing the steps using the Python concepts of lists, dictionaries, sets, and basic input/output operations. "
   ]
  },
  {
   "cell_type": "code",
   "execution_count": 49,
   "metadata": {},
   "outputs": [
    {
     "name": "stdin",
     "output_type": "stream",
     "text": [
      "Please enter the quantity of t-shirts in inventory:  3\n",
      "Please enter the quantity of mugs in inventory:  4\n",
      "Please enter the quantity of hats in inventory:  5\n",
      "Please enter the quantity of books in inventory:  2\n",
      "Please enter the quantity of keychains in inventory:  2\n"
     ]
    },
    {
     "name": "stdout",
     "output_type": "stream",
     "text": [
      "{'t-shirt': 3, 'mug': 4, 'hat': 5, 'book': 2, 'keychain': 2}\n"
     ]
    }
   ],
   "source": [
    "products  = [\"t-shirt\", \"mug\", \"hat\", \"book\", \"keychain\"]\n",
    "inventory = {}\n",
    "quantity_ts = int(input(\"Please enter the quantity of t-shirts in inventory: \"))\n",
    "quantity_m = int(input(\"Please enter the quantity of mugs in inventory: \"))\n",
    "quantity_h = int(input(\"Please enter the quantity of hats in inventory: \"))\n",
    "quantity_b = int(input(\"Please enter the quantity of books in inventory: \"))\n",
    "quantity_k = int(input(\"Please enter the quantity of keychains in inventory: \"))\n",
    "inventory[\"t-shirt\"] = quantity_ts\n",
    "inventory[\"mug\"] = quantity_m\n",
    "inventory[\"hat\"] = quantity_h\n",
    "inventory[\"book\"] = quantity_b\n",
    "inventory[\"keychain\"] = quantity_k\n",
    "print(inventory)\n"
   ]
  },
  {
   "cell_type": "code",
   "execution_count": 51,
   "metadata": {},
   "outputs": [
    {
     "name": "stdin",
     "output_type": "stream",
     "text": [
      "Please enter product you want to order:  hat\n",
      "Please enter product you want to oder:  mug\n",
      "Please enter product you want to order:  book\n"
     ]
    },
    {
     "name": "stdout",
     "output_type": "stream",
     "text": [
      "{'book', 'mug', 'hat'}\n"
     ]
    }
   ],
   "source": [
    "customer_orders = set()\n",
    "order1 = input(\"Please enter product you want to order: \")\n",
    "order2 = input(\"Please enter product you want to oder: \")\n",
    "order3 = input(\"Please enter product you want to order: \")\n",
    "customer_orders.add(order1)\n",
    "customer_orders.add(order2)\n",
    "customer_orders.add(order3)\n",
    "print(customer_orders)\n",
    "\n",
    "\n"
   ]
  },
  {
   "cell_type": "code",
   "execution_count": 69,
   "metadata": {},
   "outputs": [
    {
     "name": "stdout",
     "output_type": "stream",
     "text": [
      "3\n"
     ]
    }
   ],
   "source": [
    "print(len(customer_orders))\n",
    "total_orders = (len(customer_orders))"
   ]
  },
  {
   "cell_type": "code",
   "execution_count": 71,
   "metadata": {},
   "outputs": [
    {
     "name": "stdout",
     "output_type": "stream",
     "text": [
      "5\n"
     ]
    }
   ],
   "source": [
    "available_products = len(inventory)\n",
    "print(available_products)"
   ]
  },
  {
   "cell_type": "code",
   "execution_count": 73,
   "metadata": {},
   "outputs": [
    {
     "name": "stdout",
     "output_type": "stream",
     "text": [
      "16\n"
     ]
    }
   ],
   "source": [
    "total_number = sum(inventory.values())\n",
    "print(total_number)"
   ]
  },
  {
   "cell_type": "code",
   "execution_count": 77,
   "metadata": {},
   "outputs": [
    {
     "name": "stdout",
     "output_type": "stream",
     "text": [
      "18.75\n"
     ]
    }
   ],
   "source": [
    "percentage_ordered = (total_orders / total_number) *100\n",
    "print(percentage_ordered)"
   ]
  },
  {
   "cell_type": "code",
   "execution_count": 81,
   "metadata": {},
   "outputs": [],
   "source": [
    "order_status = (customer_orders, percentage_ordered)"
   ]
  },
  {
   "cell_type": "code",
   "execution_count": null,
   "metadata": {},
   "outputs": [],
   "source": [
    "#rder Statistics:\n",
    "Total Products Ordered: <total_products_ordered>\n",
    "Percentage of Products Ordered: <percentage_ordered>% "
   ]
  },
  {
   "cell_type": "code",
   "execution_count": 85,
   "metadata": {},
   "outputs": [
    {
     "name": "stdout",
     "output_type": "stream",
     "text": [
      "Total products Ordered: 16\n",
      " Percentage of Products Oredered: 18.75\n"
     ]
    }
   ],
   "source": [
    "print(f\"Total products Ordered: {total_number}\\n Percentage of Products Oredered: {percentage_ordered}\")\n"
   ]
  },
  {
   "cell_type": "code",
   "execution_count": 89,
   "metadata": {},
   "outputs": [
    {
     "name": "stdout",
     "output_type": "stream",
     "text": [
      "{'t-shirt': 3, 'mug': 3, 'hat': 4, 'book': 1, 'keychain': 2}\n"
     ]
    }
   ],
   "source": [
    "for value in customer_orders:\n",
    "    inventory[value] = inventory[value] -1\n",
    "print(inventory)\n",
    "    "
   ]
  },
  {
   "cell_type": "code",
   "execution_count": 91,
   "metadata": {},
   "outputs": [
    {
     "name": "stdout",
     "output_type": "stream",
     "text": [
      "item.t-shirt, available: 3\n",
      "item.mug, available: 3\n",
      "item.hat, available: 4\n",
      "item.book, available: 1\n",
      "item.keychain, available: 2\n"
     ]
    }
   ],
   "source": [
    "for key, value in inventory.items():\n",
    "    print(f'item.{key}, available: {value}')"
   ]
  },
  {
   "cell_type": "code",
   "execution_count": null,
   "metadata": {},
   "outputs": [],
   "source": []
  }
 ],
 "metadata": {
  "kernelspec": {
   "display_name": "Python 3 (ipykernel)",
   "language": "python",
   "name": "python3"
  },
  "language_info": {
   "codemirror_mode": {
    "name": "ipython",
    "version": 3
   },
   "file_extension": ".py",
   "mimetype": "text/x-python",
   "name": "python",
   "nbconvert_exporter": "python",
   "pygments_lexer": "ipython3",
   "version": "3.12.4"
  }
 },
 "nbformat": 4,
 "nbformat_minor": 4
}
